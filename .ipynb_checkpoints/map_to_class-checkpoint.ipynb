{
 "cells": [
  {
   "cell_type": "code",
   "execution_count": 1,
   "metadata": {
    "collapsed": true
   },
   "outputs": [],
   "source": [
    "#a program that produces a dataframe allowing one to consistently map dog breed\n",
    "#from numeric labels to strings\n",
    "\n",
    "import numpy as np\n",
    "import pandas as pd"
   ]
  },
  {
   "cell_type": "code",
   "execution_count": 2,
   "metadata": {},
   "outputs": [
    {
     "name": "stdout",
     "output_type": "stream",
     "text": [
      "(10222, 2)\n",
      "                                 id             breed\n",
      "0  000bec180eb18c7604dcecc8fe0dba07       boston_bull\n",
      "1  001513dfcb2ffafc82cccf4d8bbaba97             dingo\n",
      "2  001cdf01b096e06d78e9e5112d419397          pekinese\n",
      "3  00214f311d5d2247d5dfe4fe24b2303d          bluetick\n",
      "4  0021f9ceb3235effd7fcde7f7538ed62  golden_retriever\n"
     ]
    }
   ],
   "source": [
    "#read in the labels associated with training images\n",
    "labels = pd.read_csv(\"labels.csv\")\n",
    "print(labels.shape)\n",
    "print(labels.head())"
   ]
  },
  {
   "cell_type": "code",
   "execution_count": 3,
   "metadata": {},
   "outputs": [
    {
     "name": "stdout",
     "output_type": "stream",
     "text": [
      "0         boston_bull\n",
      "1               dingo\n",
      "2            pekinese\n",
      "3            bluetick\n",
      "4    golden_retriever\n",
      "Name: breed, dtype: object\n",
      "0    000bec180eb18c7604dcecc8fe0dba07\n",
      "1    001513dfcb2ffafc82cccf4d8bbaba97\n",
      "2    001cdf01b096e06d78e9e5112d419397\n",
      "3    00214f311d5d2247d5dfe4fe24b2303d\n",
      "4    0021f9ceb3235effd7fcde7f7538ed62\n",
      "Name: id, dtype: object\n"
     ]
    }
   ],
   "source": [
    "targets = labels[\"breed\"]\n",
    "print(targets.head())\n",
    "filenames = labels[\"id\"]\n",
    "print(filenames.head())"
   ]
  },
  {
   "cell_type": "code",
   "execution_count": 4,
   "metadata": {},
   "outputs": [
    {
     "name": "stdout",
     "output_type": "stream",
     "text": [
      "                                                 0\n",
      "000bec180eb18c7604dcecc8fe0dba07       boston_bull\n",
      "001513dfcb2ffafc82cccf4d8bbaba97             dingo\n",
      "001cdf01b096e06d78e9e5112d419397          pekinese\n",
      "00214f311d5d2247d5dfe4fe24b2303d          bluetick\n",
      "0021f9ceb3235effd7fcde7f7538ed62  golden_retriever\n"
     ]
    }
   ],
   "source": [
    "values = np.array(targets)\n",
    "indices = np.array(filenames)\n",
    "label_df = pd.DataFrame(values,index = indices)\n",
    "print(label_df.head())"
   ]
  },
  {
   "cell_type": "code",
   "execution_count": 5,
   "metadata": {
    "collapsed": true
   },
   "outputs": [],
   "source": [
    "actual_labels = []"
   ]
  },
  {
   "cell_type": "code",
   "execution_count": 6,
   "metadata": {},
   "outputs": [
    {
     "name": "stderr",
     "output_type": "stream",
     "text": [
      "Using TensorFlow backend.\n"
     ]
    }
   ],
   "source": [
    "#load the training images\n",
    "from os import listdir\n",
    "from os.path import isfile, join\n",
    "import numpy\n",
    "import cv2\n",
    "from keras.preprocessing.image import img_to_array\n",
    "\n",
    "mypath='train'\n",
    "onlyfiles = [ f for f in listdir(mypath) if isfile(join(mypath,f)) ]\n",
    "train_images = numpy.empty(len(onlyfiles), dtype=object)\n",
    "for n in range(0, len(onlyfiles)):\n",
    "    path = onlyfiles[n].split(\".\")[0]\n",
    "    lab = label_df.get_value(path,0)\n",
    "    actual_labels.append(lab)\n",
    "    new = cv2.imread(join(mypath,onlyfiles[n]))\n",
    "    new = cv2.resize(new,(28,28))\n",
    "    train_images[n] = img_to_array(new)/255.0"
   ]
  },
  {
   "cell_type": "code",
   "execution_count": 7,
   "metadata": {
    "collapsed": true
   },
   "outputs": [],
   "source": [
    "actual_labels = np.array(actual_labels)"
   ]
  },
  {
   "cell_type": "code",
   "execution_count": 8,
   "metadata": {
    "collapsed": true
   },
   "outputs": [],
   "source": [
    "#encode the strings into numbers\n",
    "from sklearn.preprocessing import LabelEncoder\n",
    "le = LabelEncoder()\n",
    "numeric_labels = le.fit_transform(actual_labels)"
   ]
  },
  {
   "cell_type": "code",
   "execution_count": 9,
   "metadata": {
    "collapsed": true
   },
   "outputs": [],
   "source": [
    "#save a dataframe of dog breed strings, indexed by their respective numeric labels\n",
    "mapper = pd.DataFrame(actual_labels,index = numeric_labels)"
   ]
  },
  {
   "cell_type": "code",
   "execution_count": 10,
   "metadata": {},
   "outputs": [
    {
     "name": "stdout",
     "output_type": "stream",
     "text": [
      "                    0\n",
      "66             kuvasz\n",
      "108   tibetan_mastiff\n",
      "56       irish_setter\n",
      "49   golden_retriever\n",
      "70              lhasa\n"
     ]
    }
   ],
   "source": [
    "print(mapper.head())"
   ]
  },
  {
   "cell_type": "code",
   "execution_count": 11,
   "metadata": {
    "collapsed": true
   },
   "outputs": [],
   "source": [
    "mapper.to_csv(\"mapper.csv\")"
   ]
  }
 ],
 "metadata": {
  "kernelspec": {
   "display_name": "Python 3",
   "language": "python",
   "name": "python3"
  },
  "language_info": {
   "codemirror_mode": {
    "name": "ipython",
    "version": 3
   },
   "file_extension": ".py",
   "mimetype": "text/x-python",
   "name": "python",
   "nbconvert_exporter": "python",
   "pygments_lexer": "ipython3",
   "version": "3.6.1"
  }
 },
 "nbformat": 4,
 "nbformat_minor": 2
}
