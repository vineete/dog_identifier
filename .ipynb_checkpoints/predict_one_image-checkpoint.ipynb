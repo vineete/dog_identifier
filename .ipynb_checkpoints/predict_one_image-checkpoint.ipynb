{
 "cells": [
  {
   "cell_type": "code",
   "execution_count": 1,
   "metadata": {},
   "outputs": [
    {
     "name": "stderr",
     "output_type": "stream",
     "text": [
      "Using TensorFlow backend.\n"
     ]
    }
   ],
   "source": [
    "#script that enables one to take a trained model and make predictions on a new, individual image\n",
    "\n",
    "#import necessary modeules\n",
    "import pandas as pd\n",
    "import numpy as np\n",
    "from keras.models import load_model\n",
    "from keras.preprocessing.image import img_to_array\n",
    "import cv2"
   ]
  },
  {
   "cell_type": "code",
   "execution_count": 2,
   "metadata": {
    "collapsed": true
   },
   "outputs": [],
   "source": [
    "#change the filepath based on the new image\n",
    "testing_image = cv2.imread(\"test/266490a2b053a4a3bf68e779f28fb5a9.jpg\")\n",
    "original = testing_image.copy()"
   ]
  },
  {
   "cell_type": "code",
   "execution_count": 3,
   "metadata": {
    "collapsed": true
   },
   "outputs": [],
   "source": [
    "#resize and normalize the image\n",
    "testing_image = cv2.resize(testing_image,(128,128))\n",
    "testing_image = testing_image.astype(\"float\")/255.0\n",
    "testing_image = img_to_array(testing_image)"
   ]
  },
  {
   "cell_type": "code",
   "execution_count": 4,
   "metadata": {
    "collapsed": true
   },
   "outputs": [],
   "source": [
    "#reshape the image dimensions so that it can be fed to the network\n",
    "(dim2,dim3,dim4) = testing_image.shape\n",
    "testing_image = np.reshape(testing_image,(1,dim2,dim3,dim4))"
   ]
  },
  {
   "cell_type": "code",
   "execution_count": 5,
   "metadata": {
    "collapsed": true
   },
   "outputs": [],
   "source": [
    "#load the previously trained model\n",
    "model = load_model(\"my_model.h5\")"
   ]
  },
  {
   "cell_type": "code",
   "execution_count": 6,
   "metadata": {
    "collapsed": true
   },
   "outputs": [],
   "source": [
    "#make the prediction\n",
    "prediction = model.predict(testing_image)"
   ]
  },
  {
   "cell_type": "code",
   "execution_count": 7,
   "metadata": {},
   "outputs": [
    {
     "name": "stdout",
     "output_type": "stream",
     "text": [
      "[[ 0.00612728  0.01154235  0.00851349  0.01029535  0.0062182   0.00704172\n",
      "   0.00849018  0.01162445  0.00967354  0.00965471  0.01136258  0.01321371\n",
      "   0.00616206  0.01275272  0.00853117  0.00784817  0.00449553  0.00797587\n",
      "   0.0073911   0.01137711  0.00505955  0.00448279  0.00538226  0.00603128\n",
      "   0.00915175  0.00764666  0.0115664   0.00752567  0.00716173  0.00848036\n",
      "   0.00750654  0.01476742  0.00892684  0.00975217  0.00393824  0.01083196\n",
      "   0.00580652  0.00701117  0.00678285  0.00882919  0.01038206  0.00811769\n",
      "   0.00949413  0.00769262  0.00493929  0.00813916  0.00386613  0.00568004\n",
      "   0.00569295  0.00841553  0.0053353   0.00822299  0.01413636  0.00775019\n",
      "   0.0084767   0.00791277  0.00551469  0.00671994  0.00403961  0.01002006\n",
      "   0.00830977  0.01298735  0.00665094  0.00707742  0.00617636  0.00898959\n",
      "   0.01001636  0.00983034  0.00993198  0.01171035  0.01336482  0.00934414\n",
      "   0.00428972  0.0147557   0.0081543   0.00832336  0.00979324  0.00621859\n",
      "   0.00491531  0.00804493  0.00668955  0.00612973  0.01471083  0.0050824\n",
      "   0.0058951   0.00786398  0.00891042  0.01388821  0.00849991  0.00678774\n",
      "   0.00931718  0.00453681  0.00927341  0.01149015  0.01358312  0.0049705\n",
      "   0.00562879  0.01197413  0.01113625  0.0061651   0.01400431  0.00963308\n",
      "   0.00975492  0.00733667  0.00729065  0.00664293  0.00642698  0.00690591\n",
      "   0.00673294  0.0112315   0.01028066  0.00644343  0.00586131  0.00581662\n",
      "   0.00957464  0.00985267  0.0073063   0.00495111  0.00808638  0.00696811]]\n"
     ]
    }
   ],
   "source": [
    "print(prediction)"
   ]
  },
  {
   "cell_type": "code",
   "execution_count": 8,
   "metadata": {
    "collapsed": true
   },
   "outputs": [],
   "source": [
    "#find the probability of the prediction\n",
    "probability = np.amax(prediction,axis = 1)"
   ]
  },
  {
   "cell_type": "code",
   "execution_count": 9,
   "metadata": {
    "collapsed": true
   },
   "outputs": [],
   "source": [
    "#find the numeric value of the predicted breed\n",
    "label_number = np.argmax(prediction,axis = 1)"
   ]
  },
  {
   "cell_type": "code",
   "execution_count": 10,
   "metadata": {},
   "outputs": [
    {
     "name": "stdout",
     "output_type": "stream",
     "text": [
      "[31]\n"
     ]
    }
   ],
   "source": [
    "print(label_number)"
   ]
  },
  {
   "cell_type": "code",
   "execution_count": 11,
   "metadata": {
    "collapsed": true
   },
   "outputs": [],
   "source": [
    "#map number to class using the dataframe output from the map_to_class program and fix formatting issues\n",
    "mapper = pd.read_csv(\"mapper.csv\")\n",
    "mapper.index = mapper.iloc[:,0]\n",
    "select = mapper.loc[label_number]"
   ]
  },
  {
   "cell_type": "code",
   "execution_count": 12,
   "metadata": {
    "collapsed": true
   },
   "outputs": [],
   "source": [
    "#find the dog breed prediction in string format\n",
    "breed = select.iloc[0,-1]"
   ]
  },
  {
   "cell_type": "code",
   "execution_count": 13,
   "metadata": {},
   "outputs": [
    {
     "name": "stdout",
     "output_type": "stream",
     "text": [
      "Predictions: clumber with probability 0.014767\n"
     ]
    }
   ],
   "source": [
    "#print out the predictions\n",
    "print(\"Predictions: %s with probability %f\" %(breed,probability))"
   ]
  }
 ],
 "metadata": {
  "kernelspec": {
   "display_name": "Python 3",
   "language": "python",
   "name": "python3"
  },
  "language_info": {
   "codemirror_mode": {
    "name": "ipython",
    "version": 3
   },
   "file_extension": ".py",
   "mimetype": "text/x-python",
   "name": "python",
   "nbconvert_exporter": "python",
   "pygments_lexer": "ipython3",
   "version": "3.6.1"
  }
 },
 "nbformat": 4,
 "nbformat_minor": 2
}
