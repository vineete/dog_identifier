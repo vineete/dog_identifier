{
 "cells": [
  {
   "cell_type": "code",
   "execution_count": null,
   "metadata": {
    "collapsed": true
   },
   "outputs": [],
   "source": [
    "# main script\n",
    "\n",
    "#import libraries for data processing and analysis\n",
    "import pandas as pd\n",
    "import numpy as np"
   ]
  },
  {
   "cell_type": "code",
   "execution_count": null,
   "metadata": {},
   "outputs": [],
   "source": [
    "#load in the training image labels\n",
    "labels = pd.read_csv(\"labels.csv\")\n",
    "print(labels.shape)\n",
    "print(labels.head())"
   ]
  },
  {
   "cell_type": "code",
   "execution_count": null,
   "metadata": {},
   "outputs": [],
   "source": [
    "#set the targets to be the breed associated with each label while storing the corresponding ids separately\n",
    "targets = labels[\"breed\"]\n",
    "print(targets.head())\n",
    "filenames = labels[\"id\"]\n",
    "print(filenames.head())"
   ]
  },
  {
   "cell_type": "code",
   "execution_count": null,
   "metadata": {},
   "outputs": [],
   "source": [
    "#create a dataframe of target breeds indexed by filename\n",
    "values = np.array(targets)\n",
    "indices = np.array(filenames)\n",
    "label_df = pd.DataFrame(values,index = indices)\n",
    "print(label_df.head())"
   ]
  },
  {
   "cell_type": "code",
   "execution_count": null,
   "metadata": {},
   "outputs": [],
   "source": [
    "#import components of the neural network\n",
    "from keras.models import Sequential\n",
    "from keras.layers.convolutional import Conv2D\n",
    "from keras.layers.convolutional import MaxPooling2D\n",
    "from keras.layers import Dropout\n",
    "from keras.constraints import maxnorm\n",
    "from keras.layers.core import Activation\n",
    "from keras.layers.core import Flatten\n",
    "from keras.layers.core import Dense\n",
    "from keras.layers import GlobalMaxPooling2D\n",
    "from keras import backend as K"
   ]
  },
  {
   "cell_type": "code",
   "execution_count": null,
   "metadata": {},
   "outputs": [],
   "source": [
    "#find out the number of different breeds\n",
    "num_classes = len(targets.unique())\n",
    "print(num_classes)"
   ]
  },
  {
   "cell_type": "code",
   "execution_count": null,
   "metadata": {
    "collapsed": true
   },
   "outputs": [],
   "source": [
    "#create a list to store the breed associated with each image since the order of file loading \n",
    "#isn't consistent with the filenames\n",
    "actual_labels = []"
   ]
  },
  {
   "cell_type": "code",
   "execution_count": null,
   "metadata": {
    "collapsed": true
   },
   "outputs": [],
   "source": [
    "#the images are of different sizes so determine a common size to reshape everything to\n",
    "desired_image_size = (128,128)"
   ]
  },
  {
   "cell_type": "code",
   "execution_count": null,
   "metadata": {
    "collapsed": true
   },
   "outputs": [],
   "source": [
    "#load training images\n",
    "from os import listdir\n",
    "from os.path import isfile, join\n",
    "import numpy\n",
    "import cv2\n",
    "from keras.preprocessing.image import img_to_array\n",
    "\n",
    "mypath='train'\n",
    "onlyfiles = [ f for f in listdir(mypath) if isfile(join(mypath,f)) ]\n",
    "train_images = numpy.empty(len(onlyfiles), dtype=object)\n",
    "for n in range(0, len(onlyfiles)):\n",
    "    path = onlyfiles[n].split(\".\")[0]\n",
    "    lab = label_df.get_value(path,0)\n",
    "    actual_labels.append(lab)\n",
    "    new = cv2.imread(join(mypath,onlyfiles[n]))\n",
    "    new = cv2.resize(new,desired_image_size)\n",
    "    train_images[n] = img_to_array(new)/255.0"
   ]
  },
  {
   "cell_type": "code",
   "execution_count": null,
   "metadata": {
    "collapsed": true
   },
   "outputs": [],
   "source": [
    "actual_labels = np.array(actual_labels)"
   ]
  },
  {
   "cell_type": "code",
   "execution_count": null,
   "metadata": {
    "collapsed": true
   },
   "outputs": [],
   "source": [
    "#create a list to store the filenames of each testing image for later use\n",
    "submission_indices = []"
   ]
  },
  {
   "cell_type": "code",
   "execution_count": null,
   "metadata": {},
   "outputs": [],
   "source": [
    "#load testing images\n",
    "from os import listdir\n",
    "from os.path import isfile, join\n",
    "import numpy\n",
    "import cv2\n",
    "from keras.preprocessing.image import img_to_array\n",
    "\n",
    "mypath='test'\n",
    "onlyfiles = [ f for f in listdir(mypath) if isfile(join(mypath,f)) ]\n",
    "test_images = numpy.empty(len(onlyfiles), dtype=object)\n",
    "for n in range(0, len(onlyfiles)):\n",
    "    path_test = onlyfiles[n].split(\".\")[0]\n",
    "    submission_indices.append(path_test)\n",
    "    new = cv2.imread(join(mypath,onlyfiles[n]))\n",
    "    new = cv2.resize(new,desired_image_size)\n",
    "    test_images[n] = img_to_array(new)/255.0"
   ]
  },
  {
   "cell_type": "code",
   "execution_count": null,
   "metadata": {
    "collapsed": true
   },
   "outputs": [],
   "source": [
    "submission_indices = np.array(submission_indices)"
   ]
  },
  {
   "cell_type": "code",
   "execution_count": null,
   "metadata": {
    "collapsed": true
   },
   "outputs": [],
   "source": [
    "#generate new training data to make the model more robust to shifts or other transformations\n",
    "from keras.preprocessing.image import ImageDataGenerator\n",
    "adder = ImageDataGenerator(rotation_range=30, width_shift_range=0.1, height_shift_range=0.1, shear_range=0.2, \n",
    "                           zoom_range=0.2, horizontal_flip=True, fill_mode=\"nearest\")"
   ]
  },
  {
   "cell_type": "code",
   "execution_count": null,
   "metadata": {
    "collapsed": true
   },
   "outputs": [],
   "source": [
    "train_images = train_images\n",
    "target_train = actual_labels\n",
    "test_images = test_images"
   ]
  },
  {
   "cell_type": "code",
   "execution_count": null,
   "metadata": {
    "collapsed": true
   },
   "outputs": [],
   "source": [
    "#map the dog breeds from a string to a number\n",
    "from sklearn.preprocessing import LabelEncoder\n",
    "le = LabelEncoder()\n",
    "numeric_labels = le.fit_transform(target_train)"
   ]
  },
  {
   "cell_type": "code",
   "execution_count": null,
   "metadata": {
    "collapsed": true
   },
   "outputs": [],
   "source": [
    "#one hot encode the numeric dog breed labels\n",
    "num_classes_sample = len(np.unique(numeric_labels))\n",
    "from keras.utils import to_categorical\n",
    "train_labels = to_categorical(numeric_labels,num_classes_sample)"
   ]
  },
  {
   "cell_type": "code",
   "execution_count": null,
   "metadata": {
    "collapsed": true
   },
   "outputs": [],
   "source": [
    "#create the desired model architecture based on available computational resources\n",
    "\n",
    "input_shape = (desired_image_size[0],desired_image_size[1],3)\n",
    "\n",
    "\n",
    "#model = Sequential()\n",
    "#model.add(Conv2D(20,(5,5),padding = \"same\",activation = \"relu\",input_shape = input_shape))\n",
    "#model.add(MaxPooling2D(pool_size = (2,2),strides = (2,2)))\n",
    "#model.add(Conv2D(50,(5,5),padding = \"same\",activation = \"relu\"))\n",
    "#model.add(MaxPooling2D(pool_size = (2,2),strides = (2,2)))\n",
    "#model.add(Flatten())\n",
    "#model.add(Dense(500,activation = \"relu\"))\n",
    "#model.add(Dense(num_classes_sample,activation = \"softmax\"))\n",
    "\n",
    "\n",
    "model = Sequential()\n",
    "model.add(Conv2D(32, (3, 3), input_shape = input_shape, activation='relu', padding='same'))\n",
    "model.add(Dropout(0.2))\n",
    "model.add(Conv2D(32, (3, 3), activation='relu', padding='same'))\n",
    "model.add(MaxPooling2D(pool_size=(2, 2)))\n",
    "model.add(Conv2D(64, (3, 3), activation='relu', padding='same'))\n",
    "model.add(Dropout(0.2))\n",
    "model.add(Conv2D(64, (3, 3), activation='relu', padding='same'))\n",
    "model.add(MaxPooling2D(pool_size=(2, 2)))\n",
    "model.add(Conv2D(128, (3, 3), activation='relu', padding='same'))\n",
    "model.add(Dropout(0.2))\n",
    "model.add(Conv2D(128, (3, 3), activation='relu', padding='same'))\n",
    "model.add(MaxPooling2D(pool_size=(2, 2)))\n",
    "model.add(Flatten())\n",
    "model.add(Dropout(0.2))\n",
    "model.add(Dense(512, activation='relu', kernel_constraint=maxnorm(3)))\n",
    "model.add(Dropout(0.2))\n",
    "model.add(Dense(256, activation='relu', kernel_constraint=maxnorm(3)))\n",
    "model.add(Dropout(0.2))\n",
    "model.add(Dense(num_classes, activation='softmax'))"
   ]
  },
  {
   "cell_type": "code",
   "execution_count": null,
   "metadata": {
    "collapsed": true
   },
   "outputs": [],
   "source": [
    "#compile the model\n",
    "model.compile(loss = \"categorical_crossentropy\",optimizer = \"adam\",metrics = [\"accuracy\"])"
   ]
  },
  {
   "cell_type": "code",
   "execution_count": null,
   "metadata": {},
   "outputs": [],
   "source": [
    "#print out a synopsis of the model architecture\n",
    "print(model.summary())"
   ]
  },
  {
   "cell_type": "code",
   "execution_count": null,
   "metadata": {
    "collapsed": true
   },
   "outputs": [],
   "source": [
    "#preprocess the training images so that they can be fed into the network\n",
    "(dim2,dim3,dim4) = train_images[0].shape\n",
    "num_images = train_images.size\n",
    "training_data = np.zeros((num_images,dim2,dim3,dim4))\n",
    "for i in range(num_images):\n",
    "    training_data[i,:,:,:] = train_images[i]"
   ]
  },
  {
   "cell_type": "code",
   "execution_count": null,
   "metadata": {
    "collapsed": true
   },
   "outputs": [],
   "source": [
    "#fit the model\n",
    "bs = 256\n",
    "A = model.fit_generator(adder.flow(training_data, train_labels, batch_size=bs), \n",
    "                        steps_per_epoch=num_images // bs,epochs=5000)"
   ]
  },
  {
   "cell_type": "code",
   "execution_count": null,
   "metadata": {
    "collapsed": true
   },
   "outputs": [],
   "source": [
    "#save the model so that predictions can be made on individual images later without retraining\n",
    "model.save(\"my_model.h5\")"
   ]
  },
  {
   "cell_type": "code",
   "execution_count": null,
   "metadata": {
    "collapsed": true
   },
   "outputs": [],
   "source": [
    "#preprocess the test images so that they can be fed into the network\n",
    "(dim2,dim3,dim4) = test_images[0].shape\n",
    "num_test_images = test_images.size\n",
    "practice_test_images = np.zeros((num_test_images,dim2,dim3,dim4))\n",
    "for i in range(num_test_images):\n",
    "    practice_test_images[i,:,:,:] = test_images[i]"
   ]
  },
  {
   "cell_type": "code",
   "execution_count": null,
   "metadata": {
    "collapsed": true
   },
   "outputs": [],
   "source": [
    "#generate predictions (as probabilities associated with each class)\n",
    "predictions = model.predict(practice_test_images)\n",
    "print(predictions.shape)\n",
    "print(predictions[0])"
   ]
  },
  {
   "cell_type": "code",
   "execution_count": null,
   "metadata": {
    "collapsed": true
   },
   "outputs": [],
   "source": [
    "#determine the numeric labels of the predictions\n",
    "number_labels_back = np.argmax(predictions,axis = 1)\n",
    "print(len(number_labels_back))"
   ]
  },
  {
   "cell_type": "code",
   "execution_count": null,
   "metadata": {
    "collapsed": true
   },
   "outputs": [],
   "source": [
    "print(number_labels_back[0])"
   ]
  },
  {
   "cell_type": "code",
   "execution_count": null,
   "metadata": {
    "collapsed": true
   },
   "outputs": [],
   "source": [
    "#find the probability associated with each prediction\n",
    "probabilities = np.amax(predictions,axis = 1)"
   ]
  },
  {
   "cell_type": "code",
   "execution_count": null,
   "metadata": {
    "collapsed": true
   },
   "outputs": [],
   "source": [
    "#map the predicted breeds back to strings\n",
    "final_prediction_strings = le.inverse_transform(number_labels_back)\n",
    "print(final_prediction_strings)"
   ]
  },
  {
   "cell_type": "code",
   "execution_count": null,
   "metadata": {
    "collapsed": true
   },
   "outputs": [],
   "source": [
    "for i in range(30):\n",
    "    print(\"Test image %d is of a(n) %s with probability %f\" %(i,final_prediction_strings[i],probabilities[i]))"
   ]
  },
  {
   "cell_type": "code",
   "execution_count": null,
   "metadata": {
    "collapsed": true
   },
   "outputs": [],
   "source": [
    "#save results in a dataframe\n",
    "numbers = np.array([i for i in range(num_classes_sample)])\n",
    "column_names = le.inverse_transform(numbers)\n",
    "final_submission = pd.DataFrame(predictions,columns = column_names, index = submission_indices)"
   ]
  },
  {
   "cell_type": "code",
   "execution_count": null,
   "metadata": {
    "collapsed": true
   },
   "outputs": [],
   "source": [
    "final_submission.to_csv(\"dog_test_predictions.csv\")"
   ]
  },
  {
   "cell_type": "code",
   "execution_count": null,
   "metadata": {
    "collapsed": true
   },
   "outputs": [],
   "source": [
    "print(final_submission.head())"
   ]
  }
 ],
 "metadata": {
  "kernelspec": {
   "display_name": "Python 3",
   "language": "python",
   "name": "python3"
  },
  "language_info": {
   "codemirror_mode": {
    "name": "ipython",
    "version": 3
   },
   "file_extension": ".py",
   "mimetype": "text/x-python",
   "name": "python",
   "nbconvert_exporter": "python",
   "pygments_lexer": "ipython3",
   "version": "3.6.1"
  }
 },
 "nbformat": 4,
 "nbformat_minor": 2
}
